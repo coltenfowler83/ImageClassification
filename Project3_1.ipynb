{
 "cells": [
  {
   "cell_type": "markdown",
   "metadata": {},
   "source": [
    "# Image Classification with CIFAR10 : Part 1\n",
    "\n",
    "This project introduces basic image classification techniques using the [CIFAR10 dataset](https://www.cs.toronto.edu/~kriz/cifar.html). This project has two parts. [Part 1](https://courses.cs.washington.edu/courses/csep576/20sp/projects/Project3_1.html) uses Numpy to implement basic image classifiers using simple linear algebra operations. [Part 2](https://courses.cs.washington.edu/courses/csep576/20sp/projects/Project3_2.html) uses Tensorflow to implement convolutional neural networks using the Keras API. Part 1 is worth 60%, and Part 2 worth 40% of the overall mark.\n",
    "\n",
    "**Getting Started:** The source files for this project are [here](https://courses.cs.washington.edu/courses/csep576/20sp/projects/project3/project3.zip). To run locally you will need IPython/Jupyter installed, see instructions at http://jupyter.org/install.html. Launch Jupyter and open `Project3_1.ipynb`. You can also import the standalone version of this notebook `standalone\\Project3_1.ipynb` into [Colaboratory](https://colab.research.google.com/).\n",
    "\n",
    "**This project:** You'll build nearest mean and nearest neighbour classifiers and test their performance. Next you'll build a linear classifier, first via least squares, then stochastic gradient descent, and investigate the effect of learning rate and momentum.\n",
    "\n",
    "**What to turn in:** Hand in a zipfile containing your completed .ipynb notebook and any source .py files you created. Be sure to describe clearly the results of your investigations in your notebook. \n",
    "\n",
    "`version 050420`"
   ]
  },
  {
   "cell_type": "markdown",
   "metadata": {},
   "source": [
    "### Copyright 2020 Google LLC\n",
    "\n",
    "Licensed under the Apache License, Version 2.0 (the \"License\"); \n",
    "This is not an official Google product."
   ]
  },
  {
   "cell_type": "code",
   "execution_count": 1,
   "metadata": {},
   "outputs": [],
   "source": [
    "#@title \n",
    "# Licensed under the Apache License, Version 2.0 (the \"License\");\n",
    "# you may not use this file except in compliance with the License.\n",
    "# You may obtain a copy of the License at\n",
    "#\n",
    "# https://www.apache.org/licenses/LICENSE-2.0\n",
    "#\n",
    "# Unless required by applicable law or agreed to in writing, software\n",
    "# distributed under the License is distributed on an \"AS IS\" BASIS,\n",
    "# WITHOUT WARRANTIES OR CONDITIONS OF ANY KIND, either express or implied.\n",
    "# See the License for the specific language governing permissions and\n",
    "# limitations under the License."
   ]
  },
  {
   "cell_type": "code",
   "execution_count": 2,
   "metadata": {},
   "outputs": [],
   "source": [
    "import numpy as np\n",
    "import matplotlib.pyplot as plt\n",
    "from time import time\n",
    "import types\n",
    "import data_util\n",
    "import im_util\n",
    "\n",
    "%matplotlib inline\n",
    "# edit this line to change the figure size\n",
    "plt.rcParams['figure.figsize'] = (16.0, 10.0)\n",
    "plt.rcParams['font.size'] = 16\n",
    "# force auto-reload of import modules before running code \n",
    "%load_ext autoreload\n",
    "%autoreload 2"
   ]
  },
  {
   "cell_type": "markdown",
   "metadata": {},
   "source": [
    "### CIFAR10 dataset\n",
    "\n",
    "Run the script `data/get_cifar10.sh` to download the python version of the CIFAR10 dataset (note: this is not needed if using the standalone version). The following code loads the data and sets up train, test and validation splits. For example, `X_train` contains flattened (1D) image data, and `Y_train` the corresponding labels for the training set. Run the code below and examine the data shapes, e.g., `X_train.shape` to be sure you understand the structure of the data."
   ]
  },
  {
   "cell_type": "code",
   "execution_count": null,
   "metadata": {},
   "outputs": [],
   "source": [
    "\"\"\"Load CIFAR10 data\"\"\"\n",
    "\n",
    "num_classes=10\n",
    "num_dims=32*32*3\n",
    "\n",
    "cifar10_names=['airplane', 'automobile','bird','cat','deer','dog','frog','horse','ship','truck']\n",
    "\n",
    "num_train=49000\n",
    "num_valid=1000\n",
    "num_test=10000\n",
    "\n",
    "im_train,Y_train,im_valid,Y_valid,im_test,Y_test = data_util.get_CIFAR10_data(num_train,num_valid,num_test)\n",
    "\n",
    "X_train=np.reshape(im_train,(num_train,num_dims))\n",
    "X_valid=np.reshape(im_valid,(num_valid,num_dims))\n",
    "X_test=np.reshape(im_test,(num_test,num_dims))"
   ]
  },
  {
   "cell_type": "markdown",
   "metadata": {},
   "source": [
    "### Average Image Visualization [5%]\n",
    "\n",
    "We'll start by visualizing average images for each class (1-10). Fill in the code below to compute mean images for the CIFAR training set."
   ]
  },
  {
   "cell_type": "code",
   "execution_count": null,
   "metadata": {},
   "outputs": [],
   "source": [
    "\"\"\"Visualise average images\"\"\"\n",
    "\n",
    "avg_im=[]\n",
    "\n",
    "# FORNOW: use first image of each class\n",
    "for i in range(10):\n",
    "    j = next(k for k in range(num_train) if Y_train[k]==i)\n",
    "    avg_im.append(im_train[j])\n",
    "\n",
    "\"\"\"\n",
    "************************************************************\n",
    "*** TODO: write code to compute average image for each class\n",
    "************************************************************\n",
    "\n",
    "Compute the average image for each class and store in avg_im\n",
    "\"\"\"        \n",
    "\n",
    "\n",
    "\"\"\"\n",
    "************************************************************\n",
    "\"\"\"\n",
    "\n",
    "for i in range(10):\n",
    "    ax=plt.subplot(1,10,i+1)\n",
    "    im_util.remove_ticks(ax)\n",
    "    plt.xlabel(cifar10_names[i])\n",
    "    plt.imshow(avg_im[i])"
   ]
  },
  {
   "cell_type": "markdown",
   "metadata": {},
   "source": [
    "### Nearest Mean Classifier [5%]\n",
    "\n",
    "In this part you'll use the average images computed above to construct a nearest mean classifier. Classify each element in the test set to the training set mean with smallest squared distance. Fill in the prediction vector for the test set `Y_hat`. You should get an accuracy of around 29%. "
   ]
  },
  {
   "cell_type": "code",
   "execution_count": null,
   "metadata": {},
   "outputs": [],
   "source": [
    "\"\"\"Nearest Mean Classifier\"\"\"\n",
    "\n",
    "#FORNOW: random labels\n",
    "Y_hat=np.random.randint(0,10,num_test)\n",
    "\n",
    "\"\"\"\n",
    "**********************************************\n",
    "*** TODO: classify test data using mean images\n",
    "**********************************************\n",
    "\n",
    "Set the predictions Y_hat for the test set by finding the nearest mean image \n",
    "\"\"\"\n",
    "\n",
    "\n",
    "\"\"\"\n",
    "**********************************************\n",
    "\"\"\"\n",
    "\n",
    "nm_accuracy=np.sum(Y_hat==Y_test)/num_test\n",
    "im_util.plot_classification_examples(Y_hat,Y_test,im_test,cifar10_names)\n",
    "\n",
    "print('Nearest mean classifier accuracy = %.2f%%' % (100.0*nm_accuracy))"
   ]
  },
  {
   "cell_type": "markdown",
   "metadata": {},
   "source": [
    "### Nearest Neighbour Classifier [5%]\n",
    "\n",
    "Another simple classifier classifies each test item to the class of the nearest neighbour in the training set. Implement and test this below. Hint: you can use the `compute_distances` function from Project 1/2. Since computing nearest neighbours exactly is quite slow, we'll use a smaller version of the test set with only 1000 examples."
   ]
  },
  {
   "cell_type": "code",
   "execution_count": null,
   "metadata": {},
   "outputs": [],
   "source": [
    "\"\"\"Nearest Neighbour Classifier\"\"\"\n",
    "\n",
    "num_test_small=1000\n",
    "X_test_small=X_test[0:num_test_small]\n",
    "Y_test_small=Y_test[0:num_test_small]\n",
    "\n",
    "#FORNOW: random labels\n",
    "Y_hat=np.random.randint(0,10,num_test_small)\n",
    "\n",
    "\n",
    "\"\"\"\n",
    "*****************************************************\n",
    "*** TODO: classify test data using nearest neighbours\n",
    "*****************************************************\n",
    "\n",
    "Set the predictions Y_hat for the test set using nearest neighbours from the training set\n",
    "\"\"\"\n",
    "\n",
    "\n",
    "\"\"\"\n",
    "*****************************************************\n",
    "\"\"\"\n",
    "\n",
    "nn_accuracy=np.sum(Y_hat==Y_test_small)/num_test_small\n",
    "print('Nearest neighbour classifier accuracy =% .2f%%' % (100.0*nn_accuracy))"
   ]
  },
  {
   "cell_type": "markdown",
   "metadata": {},
   "source": [
    "### Note on Improved Classifiers\n",
    "\n",
    "There are several possible ways to improve the performance of the above classifiers. Some common approaches include extracting features from the input data, finding discriminatvie projections, or modifying the distance function used (e.g., Mahalanobis distance). In this assignment we'll skip straight ahead to linear regression, but if you have an idea you'd like to try out to improve the nearest neighbour or nearest mean classifiers, feel free to experiment in the space below. Note: there are no marks for this part, it is just for fun!"
   ]
  },
  {
   "cell_type": "code",
   "execution_count": null,
   "metadata": {},
   "outputs": [],
   "source": []
  },
  {
   "cell_type": "markdown",
   "metadata": {},
   "source": [
    "### Linear Classifier [5%]\n",
    "\n",
    "We will now fit a simple linear classifier to the CIFAR10 training data. To do this, we'll need to convert class labels `Y` to one-hot target vectors `T`. Take a look at the `one_hot` function below and make sure you understand how it works. Then set up a linear system to minimize squared errors against the one-hot target vector, i.e., solve $W = \\arg\\min_W |XW-T|^2$. Hint: you can use `np.linalg.lstsq` to solve the least squares problem. You should get approximately 35% accuracy. Note: since the linear weights are the same shape as the data we can visualise them as an image. What do you notice?"
   ]
  },
  {
   "cell_type": "code",
   "execution_count": null,
   "metadata": {},
   "outputs": [],
   "source": [
    "\"\"\"Linear Classifier\"\"\"\n",
    "\n",
    "#FORNOW: random weight matrix for W \n",
    "W=np.random.randn(num_dims,num_classes)\n",
    "\n",
    "def one_hot(Y, num_classes):\n",
    "    \"\"\"convert class labels to one-hot vector\"\"\"\n",
    "    num_train=Y.size\n",
    "    T = np.zeros((num_train, num_classes))\n",
    "    T[np.arange(num_train), Y]=1\n",
    "    return T\n",
    "\n",
    "\"\"\"\n",
    "*****************************************************\n",
    "*** TODO: fit a linear classifier to the CIFAR10 data\n",
    "*****************************************************\n",
    "\n",
    "Set the weight vector W by solving a linear system with training data and targets\n",
    "\"\"\"\n",
    "\n",
    "\n",
    "\"\"\"\n",
    "*****************************************************\n",
    "\"\"\"\n",
    "\n",
    "# predict labels on the test set using W\n",
    "T_hat = np.dot(X_test,W)\n",
    "Y_hat = np.argmax(T_hat,1)\n",
    "\n",
    "lin_accuracy=np.sum(Y_hat==Y_test)/num_test\n",
    "\n",
    "print('Linear classifier accuracy =% .2f%%' % (100.0*lin_accuracy))\n",
    "\n",
    "# visualise the linear weights\n",
    "im_util.plot_weights(W, cifar10_names)"
   ]
  },
  {
   "cell_type": "markdown",
   "metadata": {},
   "source": [
    "### Regularized Linear Classifier [10%]\n",
    "\n",
    "The code above finds the linear weights that exactly minimize the squared error on the training set, with no prior over the weight settings. In this part, we will add a penalty for large weights, this is called regularisation. Modify your linear fitting code to include regularization with an L2 penalty on the weights, i.e., solve $W = \\arg\\min_W |XW - T|^2 + \\lambda |W|^2$. Hint: set the derivative of this equation with respect to W to zero, and use `np.linalg.solve` to solve the linear system."
   ]
  },
  {
   "cell_type": "code",
   "execution_count": null,
   "metadata": {},
   "outputs": [],
   "source": [
    "\"\"\"Regularised Linear Classifier\"\"\"\n",
    "\n",
    "#FORNOW: random weight matrix for W \n",
    "W=np.random.randn(num_dims,num_classes)\n",
    "\n",
    "lam=1.0 # regularization parameter lambda\n",
    "\n",
    "\"\"\"\n",
    "*****************************************************\n",
    "*** TODO: add regularization to the linear classifier\n",
    "*****************************************************\n",
    "\n",
    "Add an L2 penalty to the weights using regularization parameter lam\n",
    "\"\"\"\n",
    "\n",
    "\n",
    "\"\"\"\n",
    "*****************************************************\n",
    "\"\"\"\n",
    "\n",
    "# compute accuracy on the test set\n",
    "\n",
    "def linear_classify(X,W,Y):\n",
    "  T_hat = np.dot(X,W)\n",
    "  Y_hat = np.argmax(T_hat,1)\n",
    "  accuracy = np.sum(Y_hat==Y)/np.size(Y)\n",
    "  return Y_hat, accuracy\n",
    "\n",
    "_,lin_acc=linear_classify(X_test,W,Y_test)\n",
    "\n",
    "print('Linear classifier accuracy =% .2f%%' % (100.0*lin_accuracy))\n",
    "\n",
    "# visualise the linear weights\n",
    "im_util.plot_weights(W, cifar10_names)"
   ]
  },
  {
   "cell_type": "markdown",
   "metadata": {},
   "source": [
    "### Tune the Regularization Parameter [5%]\n",
    "\n",
    "Vary the value of the regularization parameter $\\lambda=$`lam` and observe the weights and test error. What is happening? Use the validation set to tune the value of `lam` over a range and report results on the test set."
   ]
  },
  {
   "cell_type": "code",
   "execution_count": null,
   "metadata": {},
   "outputs": [],
   "source": [
    "\"\"\"Tune the Regularization Parameter\"\"\"\n",
    "\n",
    "\"\"\"\n",
    "*************************************************************************************************\n",
    "*** TODO: fine a good value of lambda using the validation set and report results on the test set\n",
    "*************************************************************************************************\n",
    "\"\"\"\n",
    "\n",
    "\n",
    "\"\"\"\n",
    "*************************************************************************************************\n",
    "\"\"\"\n"
   ]
  },
  {
   "cell_type": "markdown",
   "metadata": {},
   "source": [
    "### Stochastic Gradient Descent [10%]\n",
    "\n",
    "The code above solved for the weights `W` by solving a single linear system over all the data. If the dataset is really large, or the parameter space is big, or the classifier is non-linear, this approach no longer works. In the following, we we solve the same problem using Stochastic Gradient Descent (SGD). This works by selecting a subset of data and taking a step in the direction of the gradient of the loss function $L(W)$. To start, work out the gradient of the loss with regularization used above, i.e., $\\frac{dL}{dW}$. Then set up a loop where the weights are modified by $\\alpha\\frac{dL}{dW}$ where $\\alpha$ is the learning rate. Note that the regularization parameter $\\lambda$ is often called 'weight decay' in the context of SGD for reasons which should become clear. Experiment with the learning rate and make sure you can get the validation accuracy to increase. Note: SGD solver packages may not be used in your answer, but can optionally be used to compare your results."
   ]
  },
  {
   "cell_type": "code",
   "execution_count": null,
   "metadata": {},
   "outputs": [],
   "source": [
    "\"\"\"Linear Classifier by Stochastic Gradient Descent\"\"\"\n",
    "\n",
    "batch_size=32\n",
    "weight_decay=0.01 # same as lambda\n",
    "learning_rate=1e-2\n",
    "\n",
    "num_epochs=10\n",
    "num_iterations=num_epochs*(int)(num_train/batch_size)\n",
    "\n",
    "np.random.seed(42)\n",
    "W=np.random.randn(num_dims,num_classes)\n",
    "\n",
    "\n",
    "valid_acc_seq=[]\n",
    "iteration_seq=[]\n",
    "W_seq=[]\n",
    "W_sq_seq=[]\n",
    "\n",
    "summary_interval=1000\n",
    "\n",
    "for i in range(num_iterations):\n",
    "    \n",
    "    #FORNOW: random gradient\n",
    "    grd = np.random.randn(num_dims,num_classes)\n",
    "    dW = -grd\n",
    "    \"\"\"\n",
    "    *************************************************************************************\n",
    "    *** TODO: implement stochastic gradient descent for the regularized linear classifier\n",
    "    *************************************************************************************\n",
    "\n",
    "    Select a random batch of data and take a step in the direction of the gradient\n",
    "    \"\"\"\n",
    "    \n",
    "    \n",
    "    \"\"\"\n",
    "    *************************************************************************************\n",
    "    \"\"\"\n",
    "    W = W + dW\n",
    "    \n",
    "    if (i % summary_interval == 0):\n",
    "        _,valid_acc=linear_classify(X_valid,W,Y_valid)\n",
    "        valid_acc_seq.append(valid_acc)\n",
    "        iteration_seq.append(i)\n",
    "        print(' valid acc =% .2f%%' % (100.0 * valid_acc))    \n",
    "        W_seq.append(W)\n",
    "        W_sq_seq.append(np.sum(W**2))\n",
    "\n",
    "# plot validation accuracy and weight trends\n",
    "plt.rcParams['figure.figsize'] = (16.0, 6.0)\n",
    "\n",
    "fig=plt.figure()\n",
    "plt.grid(True)\n",
    "plt.plot(iteration_seq,valid_acc_seq,'r')\n",
    "plt.xlabel('iteration')\n",
    "plt.ylabel('accuracy')\n",
    "plt.ylim(0,0.5)\n",
    "plt.legend(['valid'])\n",
    "\n",
    "fig=plt.figure()\n",
    "plt.grid(True)\n",
    "plt.plot(iteration_seq,np.log(W_sq_seq))\n",
    "plt.xlabel('iteration')\n",
    "plt.ylabel('log |W|^2')\n",
    "\n",
    "# compute test accuracy\n",
    "Y_hat,test_acc=linear_classify(X_test,W,Y_test)\n",
    "print('\\ntest accuracy = %.2f%%' % (100.0*test_acc))\n",
    "im_util.plot_classification_examples(Y_hat,Y_test,im_test,cifar10_names)\n",
    "im_util.plot_weights(W,cifar10_names)"
   ]
  },
  {
   "cell_type": "markdown",
   "metadata": {},
   "source": [
    "### Investigate Stochastic Gradient Descent [15%]\n",
    "\n",
    "Test your SGD solver with a range of parameter settings for batch size, learning rate and weight decay. Can you get similar performance to the least squares solver? Try out some improvements to your solver and document your findings here. Some areas for exploration could be: initialization of W, momentum solvers, softmax regression, or ideas of your own. Tune parameters on the validation set and report results on the test set."
   ]
  },
  {
   "cell_type": "code",
   "execution_count": null,
   "metadata": {},
   "outputs": [],
   "source": [
    "\"\"\"Investigate Stochastic Gradient Descent\"\"\"\n",
    "\n",
    "\"\"\"\n",
    "*******************************************************\n",
    "*** TODO: improve SGD solver and document your findings\n",
    "*******************************************************\n",
    "\"\"\"\n",
    "\n",
    "\n",
    "\"\"\"\n",
    "*******************************************************\n",
    "\"\"\""
   ]
  },
  {
   "cell_type": "markdown",
   "metadata": {},
   "source": [
    "**End of Part 1:** You are now ready to move on to [Part 2](https://courses.cs.washington.edu/courses/csep576/20sp/projects/Project3_2.html) of the project."
   ]
  }
 ],
 "metadata": {
  "kernelspec": {
   "display_name": "Python 3",
   "language": "python",
   "name": "python3"
  },
  "language_info": {
   "codemirror_mode": {
    "name": "ipython",
    "version": 3
   },
   "file_extension": ".py",
   "mimetype": "text/x-python",
   "name": "python",
   "nbconvert_exporter": "python",
   "pygments_lexer": "ipython3",
   "version": "3.7.4"
  }
 },
 "nbformat": 4,
 "nbformat_minor": 2
}
