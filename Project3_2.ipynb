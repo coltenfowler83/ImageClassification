{
 "cells": [
  {
   "cell_type": "markdown",
   "metadata": {
    "colab_type": "text",
    "id": "DSPCom-KmApV"
   },
   "source": [
    "# Image Classification with CIFAR10 : Part 2\n",
    "\n",
    "Part 2 of the project uses the [Keras Sequential API](https://www.tensorflow.org/api_docs/python/tf/keras/Sequential) in Tensorflow to perform image classification using CIFAR10. You should complete [Part 1](https://courses.cs.washington.edu/courses/csep576/20sp/projects/Project3_1.html) first. Part 1 is worth 60% and Part 2 worth 40% of the overall mark.\n",
    "\n",
    "**Getting Started:** The source files for this project are [here](https://courses.cs.washington.edu/courses/csep576/20sp/projects/project3/project3.zip). To run locally, you will need [IPython/Jupyter](http://jupyter.org/install.html) as well as [Tensorflow](https://www.tensorflow.org/install) installed. Launch Jupyter and open `Project3_2.ipynb`. You can also import this notebook directly into [Colaboratory](https://colab.research.google.com/) without installing anything.\n",
    "\n",
    "**This project:** You'll start by replicating the linear classifier from [Part 1](https://courses.cs.washington.edu/courses/csep576/20sp/projects/Project3_1.html) using the Keras Sequential API. This will give a performance baseline. You'll then work on improved model designs using convolutional layers and tune parameters to get good classification performance.\n",
    "\n",
    "**What to turn in:** Hand in a zipfile containing your completed .ipynb notebook and any .py files you created. Be sure to describe clearly the results of your investigations.\n",
    "\n",
    "version `050420`"
   ]
  },
  {
   "cell_type": "markdown",
   "metadata": {},
   "source": [
    "### Copyright 2020 Google LLC\n",
    "\n",
    "Licensed under the Apache License, Version 2.0 (the \"License\"); \n",
    "This is not an official Google product."
   ]
  },
  {
   "cell_type": "code",
   "execution_count": 1,
   "metadata": {},
   "outputs": [],
   "source": [
    "#@title \n",
    "# Licensed under the Apache License, Version 2.0 (the \"License\");\n",
    "# you may not use this file except in compliance with the License.\n",
    "# You may obtain a copy of the License at\n",
    "#\n",
    "# https://www.apache.org/licenses/LICENSE-2.0\n",
    "#\n",
    "# Unless required by applicable law or agreed to in writing, software\n",
    "# distributed under the License is distributed on an \"AS IS\" BASIS,\n",
    "# WITHOUT WARRANTIES OR CONDITIONS OF ANY KIND, either express or implied.\n",
    "# See the License for the specific language governing permissions and\n",
    "# limitations under the License."
   ]
  },
  {
   "cell_type": "code",
   "execution_count": 32,
   "metadata": {
    "colab": {
     "base_uri": "https://localhost:8080/",
     "height": 63
    },
    "colab_type": "code",
    "id": "iAve6DCL4JH4",
    "outputId": "970c1894-7f32-41c0-ac8e-ada54db753c8"
   },
   "outputs": [],
   "source": [
    "import tensorflow as tf\n",
    "from tensorflow import keras\n",
    "from tensorflow.keras import layers, regularizers\n",
    "import numpy as np\n",
    "import matplotlib.pyplot as plt\n",
    "\n",
    "%matplotlib inline\n",
    "# edit this line to change the figure size\n",
    "plt.rcParams['figure.figsize'] = (16.0, 10.0)\n",
    "plt.rcParams['font.size'] = 16\n",
    "# may be needed to avoid mulitply defined openmp libs\n",
    "import os\n",
    "os.environ['KMP_DUPLICATE_LIB_OK']='TRUE'"
   ]
  },
  {
   "cell_type": "markdown",
   "metadata": {
    "colab_type": "text",
    "id": "IVsh2Y2cdS6G"
   },
   "source": [
    "### Download CIFAR10 dataset\n",
    "\n",
    "We use `keras.datasets` to download the CIFAR10 data, splitting off 1000 images from the training set for validation. The dataset will be cached at `~/.keras/datasets` by default."
   ]
  },
  {
   "cell_type": "code",
   "execution_count": 33,
   "metadata": {
    "colab": {
     "base_uri": "https://localhost:8080/",
     "height": 68
    },
    "colab_type": "code",
    "id": "0IqPyBALdS5v",
    "outputId": "910647b5-f821-4f8b-fc38-70fbebc7fdd3"
   },
   "outputs": [
    {
     "name": "stdout",
     "output_type": "stream",
     "text": [
      "frog\n"
     ]
    },
    {
     "data": {
      "image/png": "[encoded data removed]",
      "text/plain": [
       "<Figure size 288x288 with 1 Axes>"
      ]
     },
     "metadata": {
      "needs_background": "light"
     },
     "output_type": "display_data"
    }
   ],
   "source": [
    "# Load CIFAR10 dataset\n",
    "(train_images0,train_labels0),(test_images,test_labels) = keras.datasets.cifar10.load_data()\n",
    "\n",
    "# Normalise images\n",
    "train_images0=train_images0.astype('float')/255.0\n",
    "test_images=test_images.astype('float')/255.0\n",
    "\n",
    "# Create a validation set\n",
    "num_valid=1000\n",
    "valid_images=train_images0[0:num_valid]\n",
    "valid_labels=train_labels0[0:num_valid]\n",
    "train_images=train_images0[num_valid:]\n",
    "train_labels=train_labels0[num_valid:]\n",
    "\n",
    "cifar10_names = ['airplane', 'automobile', 'bird', 'cat', 'deer','dog', 'frog', 'horse', 'ship', 'truck']\n",
    "num_classes=10\n",
    "num_train=train_labels.size\n",
    "num_valid=valid_labels.size\n",
    "num_test=test_labels.size\n",
    "\n",
    "# Make one-hot targets\n",
    "train_one_hot=tf.one_hot(train_labels[:,0],num_classes)\n",
    "valid_one_hot=tf.one_hot(valid_labels[:,0],num_classes)\n",
    "test_one_hot=tf.one_hot(test_labels[:,0],num_classes)\n",
    "\n",
    "# Show a random image and label\n",
    "rnd=np.random.randint(num_train)\n",
    "plt.rcParams['figure.figsize'] = (4.0, 4.0)\n",
    "plt.imshow(train_images[rnd])\n",
    "print(cifar10_names[train_labels[rnd][0]])"
   ]
  },
  {
   "cell_type": "markdown",
   "metadata": {
    "colab_type": "text",
    "id": "Oewp-wYg31t9"
   },
   "source": [
    "### Define a Linear model using Keras [10%]\n",
    "\n",
    "We'll start by replicating the linear model from [Part 1](https://courses.cs.washington.edu/courses/csep576/20sp/projects/Project3_1.html). Use the [Keras Sequential API](https://www.tensorflow.org/api_docs/python/tf/keras/Sequential) to define a linear model over the input pixels. Complete the code below Hint: try `layers.Flatten` and `layers.Dense`. Check that your layer outputs have the right shape. How many parameters does your model have?\n",
    "\n",
    "#### A: Model has 30730 parameters"
   ]
  },
  {
   "cell_type": "code",
   "execution_count": 34,
   "metadata": {
    "colab": {
     "base_uri": "https://localhost:8080/",
     "height": 323
    },
    "colab_type": "code",
    "id": "L9YmGQBQPrdn",
    "outputId": "1d46e3fa-0549-4ccd-93a4-d3b587b37986",
    "scrolled": true
   },
   "outputs": [
    {
     "name": "stdout",
     "output_type": "stream",
     "text": [
      "Model: \"sequential_16\"\n",
      "_________________________________________________________________\n",
      "Layer (type)                 Output Shape              Param #   \n",
      "=================================================================\n",
      "flatten_16 (Flatten)         (None, 3072)              0         \n",
      "_________________________________________________________________\n",
      "dense_16 (Dense)             (None, 10)                30730     \n",
      "=================================================================\n",
      "Total params: 30,730\n",
      "Trainable params: 30,730\n",
      "Non-trainable params: 0\n",
      "_________________________________________________________________\n"
     ]
    }
   ],
   "source": [
    "# Initialize a Keras sequential model\n",
    "model=keras.models.Sequential()\n",
    "\n",
    "#FORNOW: placeholder model, replace this with your own model\n",
    "#model.add(layers.Conv2D(filters=10,kernel_size=1,input_shape=(32,32,3)))\n",
    "#model.add(layers.GlobalAveragePooling2D())\n",
    "\n",
    "\"\"\"\n",
    "*************************************************************\n",
    "*** TODO: implement a linear model using Keras Sequential API\n",
    "*************************************************************\n",
    "\n",
    "The model should compute a single linear function of the input pixels\n",
    "\"\"\"        \n",
    "\n",
    "model.add(layers.Flatten(input_shape=(32, 32, 3)))\n",
    "model.add(layers.Dense(num_classes))\n",
    "\n",
    "\n",
    "\"\"\"\n",
    "*************************************************************\n",
    "\"\"\"\n",
    "\n",
    "# output a summary of the model\n",
    "model.summary()"
   ]
  },
  {
   "cell_type": "markdown",
   "metadata": {
    "colab_type": "text",
    "id": "P3odqfHP4M67"
   },
   "source": [
    "### Train the model\n",
    "\n",
    "Use the code below to train the model with squared-error loss between logits and targets. Try a few different optimizers and loss functions, and running for additional epochs. Which combination works best? Can you modify the model to implement softmax regression? How could you add regularization (L2 penalty) on the weights?\n",
    "\n",
    "#### Trying combinations of opt=['sgd', 'adam'] and loss=['mse', 'categorical-crossentropy'] each with epoch=10, with added softmax regression and L2 penalty\n",
    "\n",
    "#### After running the model configurations below, best performance was found with opt='sgd', loss='categorical-crossentropy'\n",
    "\n"
   ]
  },
  {
   "cell_type": "code",
   "execution_count": 35,
   "metadata": {
    "colab": {
     "base_uri": "https://localhost:8080/",
     "height": 374
    },
    "colab_type": "code",
    "id": "MdDzI75PUXrG",
    "outputId": "5f3a9074-946e-4c74-c43a-ff3c3e336137",
    "scrolled": false
   },
   "outputs": [
    {
     "name": "stdout",
     "output_type": "stream",
     "text": [
      "Train on 49000 samples, validate on 1000 samples\n",
      "Epoch 1/10\n",
      "49000/49000 [==============================] - 3s 52us/sample - loss: 0.1100 - accuracy: 0.2040 - val_loss: 0.1269 - val_accuracy: 0.1800\n",
      "Epoch 2/10\n",
      "49000/49000 [==============================] - 2s 46us/sample - loss: 0.0974 - accuracy: 0.2484 - val_loss: 0.1073 - val_accuracy: 0.2410\n",
      "Epoch 3/10\n",
      "49000/49000 [==============================] - 2s 48us/sample - loss: 0.0939 - accuracy: 0.2655 - val_loss: 0.1075 - val_accuracy: 0.1790\n",
      "Epoch 4/10\n",
      "49000/49000 [==============================] - 2s 50us/sample - loss: 0.0924 - accuracy: 0.2816 - val_loss: 0.0995 - val_accuracy: 0.2060\n",
      "Epoch 5/10\n",
      "49000/49000 [==============================] - 2s 42us/sample - loss: 0.0909 - accuracy: 0.2885 - val_loss: 0.1313 - val_accuracy: 0.1730\n",
      "Epoch 6/10\n",
      "49000/49000 [==============================] - 2s 43us/sample - loss: 0.0900 - accuracy: 0.2956 - val_loss: 0.1112 - val_accuracy: 0.1520\n",
      "Epoch 7/10\n",
      "49000/49000 [==============================] - 2s 45us/sample - loss: 0.0895 - accuracy: 0.2986 - val_loss: 0.0998 - val_accuracy: 0.2720\n",
      "Epoch 8/10\n",
      "49000/49000 [==============================] - 2s 46us/sample - loss: 0.0890 - accuracy: 0.3033 - val_loss: 0.1174 - val_accuracy: 0.2290\n",
      "Epoch 9/10\n",
      "49000/49000 [==============================] - 2s 45us/sample - loss: 0.0884 - accuracy: 0.3060 - val_loss: 0.1222 - val_accuracy: 0.2090\n",
      "Epoch 10/10\n",
      "49000/49000 [==============================] - 2s 44us/sample - loss: 0.0882 - accuracy: 0.3096 - val_loss: 0.1092 - val_accuracy: 0.1820\n"
     ]
    },
    {
     "data": {
      "text/plain": [
       "'\\n******************************************************************\\n'"
      ]
     },
     "execution_count": 35,
     "metadata": {},
     "output_type": "execute_result"
    }
   ],
   "source": [
    "model.compile(optimizer='sgd', loss='mean_squared_error',metrics=['accuracy'])\n",
    "history = model.fit(train_images,train_one_hot,epochs=10,validation_data=(valid_images, valid_one_hot))\n",
    "\n",
    "\"\"\"\n",
    "******************************************************************\n",
    "*** TODO: test different training parameters for linear regression\n",
    "******************************************************************\n",
    "\"\"\"\n",
    "\n",
    "\n",
    "\"\"\"\n",
    "******************************************************************\n",
    "\"\"\""
   ]
  },
  {
   "cell_type": "code",
   "execution_count": 36,
   "metadata": {},
   "outputs": [
    {
     "name": "stdout",
     "output_type": "stream",
     "text": [
      "Train on 49000 samples, validate on 1000 samples\n",
      "Epoch 1/10\n",
      "49000/49000 [==============================] - 3s 53us/sample - loss: 0.1075 - accuracy: 0.1742 - val_loss: 0.1049 - val_accuracy: 0.2070\n",
      "Epoch 2/10\n",
      "49000/49000 [==============================] - 2s 49us/sample - loss: 0.1033 - accuracy: 0.2455 - val_loss: 0.1017 - val_accuracy: 0.2540\n",
      "Epoch 3/10\n",
      "49000/49000 [==============================] - 2s 46us/sample - loss: 0.1006 - accuracy: 0.2825 - val_loss: 0.0993 - val_accuracy: 0.3010\n",
      "Epoch 4/10\n",
      "49000/49000 [==============================] - 2s 45us/sample - loss: 0.0985 - accuracy: 0.3030 - val_loss: 0.0973 - val_accuracy: 0.3110\n",
      "Epoch 5/10\n",
      "49000/49000 [==============================] - 2s 48us/sample - loss: 0.0968 - accuracy: 0.3188 - val_loss: 0.0958 - val_accuracy: 0.3240\n",
      "Epoch 6/10\n",
      "49000/49000 [==============================] - 2s 50us/sample - loss: 0.0954 - accuracy: 0.3327 - val_loss: 0.0943 - val_accuracy: 0.3360\n",
      "Epoch 7/10\n",
      "49000/49000 [==============================] - 2s 45us/sample - loss: 0.0941 - accuracy: 0.3411 - val_loss: 0.0931 - val_accuracy: 0.3300\n",
      "Epoch 8/10\n",
      "49000/49000 [==============================] - 2s 46us/sample - loss: 0.0929 - accuracy: 0.3467 - val_loss: 0.0919 - val_accuracy: 0.3570\n",
      "Epoch 9/10\n",
      "49000/49000 [==============================] - 2s 48us/sample - loss: 0.0919 - accuracy: 0.3534 - val_loss: 0.0909 - val_accuracy: 0.3620\n",
      "Epoch 10/10\n",
      "49000/49000 [==============================] - 2s 47us/sample - loss: 0.0910 - accuracy: 0.3570 - val_loss: 0.0901 - val_accuracy: 0.3540\n"
     ]
    }
   ],
   "source": [
    "opt = 'sgd'\n",
    "loss = 'mean_squared_error'\n",
    "\n",
    "model=keras.models.Sequential()     \n",
    "\n",
    "model.add(layers.Flatten(input_shape=(32, 32, 3)))\n",
    "model.add(layers.Dense(num_classes, kernel_regularizer=regularizers.l2(0.001)))\n",
    "model.add(layers.Activation('softmax'))\n",
    "\n",
    "model.compile(optimizer=opt, loss=loss,metrics=['accuracy'])\n",
    "history = model.fit(train_images,train_one_hot,epochs=10,validation_data=(valid_images, valid_one_hot))"
   ]
  },
  {
   "cell_type": "code",
   "execution_count": 39,
   "metadata": {},
   "outputs": [
    {
     "name": "stdout",
     "output_type": "stream",
     "text": [
      "Train on 49000 samples, validate on 1000 samples\n",
      "Epoch 1/10\n",
      "49000/49000 [==============================] - 4s 90us/sample - loss: 1.9696 - accuracy: 0.3002 - val_loss: 1.9708 - val_accuracy: 0.3090\n",
      "Epoch 2/10\n",
      "49000/49000 [==============================] - 4s 85us/sample - loss: 1.8677 - accuracy: 0.3503 - val_loss: 1.8957 - val_accuracy: 0.3320\n",
      "Epoch 3/10\n",
      "49000/49000 [==============================] - 5s 104us/sample - loss: 1.8390 - accuracy: 0.3634 - val_loss: 1.9694 - val_accuracy: 0.3190\n",
      "Epoch 4/10\n",
      "49000/49000 [==============================] - 4s 76us/sample - loss: 1.8250 - accuracy: 0.3701 - val_loss: 1.8640 - val_accuracy: 0.3540\n",
      "Epoch 5/10\n",
      "49000/49000 [==============================] - 4s 78us/sample - loss: 1.8121 - accuracy: 0.3754 - val_loss: 2.0274 - val_accuracy: 0.2920\n",
      "Epoch 6/10\n",
      "49000/49000 [==============================] - 5s 93us/sample - loss: 1.8017 - accuracy: 0.3804 - val_loss: 1.9555 - val_accuracy: 0.3240\n",
      "Epoch 7/10\n",
      "49000/49000 [==============================] - 5s 96us/sample - loss: 1.7942 - accuracy: 0.3843 - val_loss: 1.9885 - val_accuracy: 0.3160\n",
      "Epoch 8/10\n",
      "49000/49000 [==============================] - 4s 85us/sample - loss: 1.7929 - accuracy: 0.3856 - val_loss: 2.0703 - val_accuracy: 0.2980\n",
      "Epoch 9/10\n",
      "49000/49000 [==============================] - 4s 80us/sample - loss: 1.7856 - accuracy: 0.3891 - val_loss: 2.0712 - val_accuracy: 0.2790\n",
      "Epoch 10/10\n",
      "49000/49000 [==============================] - 4s 89us/sample - loss: 1.7822 - accuracy: 0.3912 - val_loss: 2.1988 - val_accuracy: 0.2620\n"
     ]
    }
   ],
   "source": [
    "opt = 'sgd'\n",
    "loss = 'categorical_crossentropy'\n",
    "\n",
    "model=keras.models.Sequential()     \n",
    "\n",
    "model.add(layers.Flatten(input_shape=(32, 32, 3)))\n",
    "model.add(layers.Dense(num_classes, kernel_regularizer=regularizers.l2(0.001)))\n",
    "model.add(layers.Activation('softmax'))\n",
    "\n",
    "model.compile(optimizer=opt, loss=loss,metrics=['accuracy'])\n",
    "history = model.fit(train_images,train_one_hot,epochs=10,validation_data=(valid_images, valid_one_hot))"
   ]
  },
  {
   "cell_type": "code",
   "execution_count": 37,
   "metadata": {},
   "outputs": [
    {
     "name": "stdout",
     "output_type": "stream",
     "text": [
      "Train on 49000 samples, validate on 1000 samples\n",
      "Epoch 1/10\n",
      "49000/49000 [==============================] - 3s 61us/sample - loss: 0.0933 - accuracy: 0.2692 - val_loss: 0.0886 - val_accuracy: 0.2630\n",
      "Epoch 2/10\n",
      "49000/49000 [==============================] - 3s 52us/sample - loss: 0.0874 - accuracy: 0.2935 - val_loss: 0.0898 - val_accuracy: 0.2690\n",
      "Epoch 3/10\n",
      "49000/49000 [==============================] - 3s 52us/sample - loss: 0.0885 - accuracy: 0.2869 - val_loss: 0.0871 - val_accuracy: 0.2970\n",
      "Epoch 4/10\n",
      "49000/49000 [==============================] - 4s 77us/sample - loss: 0.0883 - accuracy: 0.2873 - val_loss: 0.0823 - val_accuracy: 0.3370\n",
      "Epoch 5/10\n",
      "49000/49000 [==============================] - 4s 81us/sample - loss: 0.0872 - accuracy: 0.2937 - val_loss: 0.0818 - val_accuracy: 0.3410\n",
      "Epoch 6/10\n",
      "49000/49000 [==============================] - 4s 84us/sample - loss: 0.0877 - accuracy: 0.2923 - val_loss: 0.0884 - val_accuracy: 0.2830\n",
      "Epoch 7/10\n",
      "49000/49000 [==============================] - 5s 98us/sample - loss: 0.0882 - accuracy: 0.2941 - val_loss: 0.0815 - val_accuracy: 0.3010\n",
      "Epoch 8/10\n",
      "49000/49000 [==============================] - 4s 87us/sample - loss: 0.0870 - accuracy: 0.2992 - val_loss: 0.0852 - val_accuracy: 0.3320\n",
      "Epoch 9/10\n",
      "49000/49000 [==============================] - 4s 90us/sample - loss: 0.0877 - accuracy: 0.2937 - val_loss: 0.0875 - val_accuracy: 0.3130\n",
      "Epoch 10/10\n",
      "49000/49000 [==============================] - 5s 96us/sample - loss: 0.0869 - accuracy: 0.2953 - val_loss: 0.0942 - val_accuracy: 0.2420\n"
     ]
    }
   ],
   "source": [
    "opt = 'adam'\n",
    "loss = 'mean_squared_error'\n",
    "\n",
    "model=keras.models.Sequential()     \n",
    "\n",
    "model.add(layers.Flatten(input_shape=(32, 32, 3)))\n",
    "model.add(layers.Dense(num_classes, kernel_regularizer=regularizers.l2(0.001)))\n",
    "model.add(layers.Activation('softmax'))\n",
    "\n",
    "model.compile(optimizer=opt, loss=loss,metrics=['accuracy'])\n",
    "history = model.fit(train_images,train_one_hot,epochs=10,validation_data=(valid_images, valid_one_hot))"
   ]
  },
  {
   "cell_type": "code",
   "execution_count": 38,
   "metadata": {
    "scrolled": true
   },
   "outputs": [
    {
     "name": "stdout",
     "output_type": "stream",
     "text": [
      "Train on 49000 samples, validate on 1000 samples\n",
      "Epoch 1/10\n",
      "49000/49000 [==============================] - 7s 147us/sample - loss: 1.9899 - accuracy: 0.3142 - val_loss: 1.8419 - val_accuracy: 0.3670\n",
      "Epoch 2/10\n",
      "49000/49000 [==============================] - 6s 127us/sample - loss: 1.9058 - accuracy: 0.3485 - val_loss: 1.8536 - val_accuracy: 0.3520\n",
      "Epoch 3/10\n",
      "49000/49000 [==============================] - 10s 209us/sample - loss: 1.8907 - accuracy: 0.3598 - val_loss: 1.8026 - val_accuracy: 0.3670\n",
      "Epoch 4/10\n",
      "49000/49000 [==============================] - 9s 180us/sample - loss: 1.8757 - accuracy: 0.3685 - val_loss: 1.8789 - val_accuracy: 0.3580\n",
      "Epoch 5/10\n",
      "49000/49000 [==============================] - 7s 140us/sample - loss: 1.8664 - accuracy: 0.3701 - val_loss: 1.8260 - val_accuracy: 0.3790\n",
      "Epoch 6/10\n",
      "49000/49000 [==============================] - 5s 108us/sample - loss: 1.8667 - accuracy: 0.3684 - val_loss: 1.8636 - val_accuracy: 0.3540\n",
      "Epoch 7/10\n",
      "49000/49000 [==============================] - 6s 117us/sample - loss: 1.8559 - accuracy: 0.3727 - val_loss: 1.7638 - val_accuracy: 0.3960\n",
      "Epoch 8/10\n",
      "49000/49000 [==============================] - 5s 93us/sample - loss: 1.8591 - accuracy: 0.3744 - val_loss: 1.8586 - val_accuracy: 0.3970\n",
      "Epoch 9/10\n",
      "49000/49000 [==============================] - 7s 139us/sample - loss: 1.8606 - accuracy: 0.3721 - val_loss: 1.8911 - val_accuracy: 0.3740\n",
      "Epoch 10/10\n",
      "49000/49000 [==============================] - 6s 119us/sample - loss: 1.8434 - accuracy: 0.3781 - val_loss: 1.9563 - val_accuracy: 0.3770\n"
     ]
    }
   ],
   "source": [
    "opt = 'adam'\n",
    "loss = 'categorical_crossentropy'\n",
    "\n",
    "model=keras.models.Sequential()     \n",
    "\n",
    "model.add(layers.Flatten(input_shape=(32, 32, 3)))\n",
    "model.add(layers.Dense(num_classes, kernel_regularizer=regularizers.l2(0.001)))\n",
    "model.add(layers.Activation('softmax'))\n",
    "\n",
    "model.compile(optimizer=opt, loss=loss,metrics=['accuracy'])\n",
    "history = model.fit(train_images,train_one_hot,epochs=10,validation_data=(valid_images, valid_one_hot))"
   ]
  },
  {
   "cell_type": "markdown",
   "metadata": {},
   "source": [
    "Reintialize the model with opt='sgd', loss='categorical_crossentropy'"
   ]
  },
  {
   "cell_type": "code",
   "execution_count": 40,
   "metadata": {},
   "outputs": [
    {
     "name": "stdout",
     "output_type": "stream",
     "text": [
      "Train on 49000 samples, validate on 1000 samples\n",
      "Epoch 1/10\n",
      "49000/49000 [==============================] - 3s 56us/sample - loss: 1.9690 - accuracy: 0.3040 - val_loss: 1.8591 - val_accuracy: 0.3600\n",
      "Epoch 2/10\n",
      "49000/49000 [==============================] - 2s 48us/sample - loss: 1.8676 - accuracy: 0.3527 - val_loss: 2.4416 - val_accuracy: 0.2320\n",
      "Epoch 3/10\n",
      "49000/49000 [==============================] - 2s 46us/sample - loss: 1.8421 - accuracy: 0.3607 - val_loss: 2.1645 - val_accuracy: 0.2570\n",
      "Epoch 4/10\n",
      "49000/49000 [==============================] - 2s 48us/sample - loss: 1.8257 - accuracy: 0.3691 - val_loss: 1.9708 - val_accuracy: 0.3110\n",
      "Epoch 5/10\n",
      "49000/49000 [==============================] - 2s 44us/sample - loss: 1.8114 - accuracy: 0.3753 - val_loss: 1.8885 - val_accuracy: 0.3380\n",
      "Epoch 6/10\n",
      "49000/49000 [==============================] - 2s 45us/sample - loss: 1.8050 - accuracy: 0.3801 - val_loss: 2.3590 - val_accuracy: 0.2280\n",
      "Epoch 7/10\n",
      "49000/49000 [==============================] - 2s 44us/sample - loss: 1.7964 - accuracy: 0.3840 - val_loss: 1.8902 - val_accuracy: 0.3340\n",
      "Epoch 8/10\n",
      "49000/49000 [==============================] - 2s 50us/sample - loss: 1.7904 - accuracy: 0.3863 - val_loss: 2.2400 - val_accuracy: 0.2480\n",
      "Epoch 9/10\n",
      "49000/49000 [==============================] - 2s 48us/sample - loss: 1.7848 - accuracy: 0.3865 - val_loss: 1.7813 - val_accuracy: 0.4060\n",
      "Epoch 10/10\n",
      "49000/49000 [==============================] - 2s 47us/sample - loss: 1.7801 - accuracy: 0.3916 - val_loss: 1.9778 - val_accuracy: 0.3190\n"
     ]
    }
   ],
   "source": [
    "opt = 'sgd'\n",
    "loss = 'categorical_crossentropy'\n",
    "\n",
    "model=keras.models.Sequential()     \n",
    "\n",
    "model.add(layers.Flatten(input_shape=(32, 32, 3)))\n",
    "model.add(layers.Dense(num_classes, kernel_regularizer=regularizers.l2(0.001)))\n",
    "model.add(layers.Activation('softmax'))\n",
    "\n",
    "model.compile(optimizer=opt, loss=loss,metrics=['accuracy'])\n",
    "history = model.fit(train_images,train_one_hot,epochs=10,validation_data=(valid_images, valid_one_hot))"
   ]
  },
  {
   "cell_type": "markdown",
   "metadata": {},
   "source": [
    "### Run the model\n",
    "\n",
    "The following code demonstrates use of `model.predict`. Run the following code to demonstrate running the model on a single input."
   ]
  },
  {
   "cell_type": "code",
   "execution_count": 48,
   "metadata": {},
   "outputs": [
    {
     "name": "stdout",
     "output_type": "stream",
     "text": [
      "predicted = ship\n",
      "actual = bird\n"
     ]
    },
    {
     "data": {
      "image/png": "[encoded data removed]",
      "text/plain": [
       "<Figure size 288x288 with 1 Axes>"
      ]
     },
     "metadata": {
      "needs_background": "light"
     },
     "output_type": "display_data"
    }
   ],
   "source": [
    "rnd=np.random.randint(num_test)\n",
    "test_image_rnd=test_images[rnd]\n",
    "test_label_rnd=test_labels[rnd][0]\n",
    "logits=model.predict(np.expand_dims(test_image_rnd,0))\n",
    "label_pred=np.argmax(logits)\n",
    "plt.imshow(test_image_rnd)\n",
    "print('predicted =',cifar10_names[label_pred])\n",
    "print('actual =',cifar10_names[test_label_rnd])"
   ]
  },
  {
   "cell_type": "markdown",
   "metadata": {},
   "source": [
    "### Design a new model [5%]\n",
    "\n",
    "Design your own convolutional net choosing your own set of layers. In the next block, you'll train, tune and visualize outputs from this model."
   ]
  },
  {
   "cell_type": "code",
   "execution_count": 52,
   "metadata": {},
   "outputs": [
    {
     "name": "stdout",
     "output_type": "stream",
     "text": [
      "Model: \"sequential_23\"\n",
      "_________________________________________________________________\n",
      "Layer (type)                 Output Shape              Param #   \n",
      "=================================================================\n",
      "conv2d (Conv2D)              (None, 30, 30, 64)        1792      \n",
      "_________________________________________________________________\n",
      "conv2d_1 (Conv2D)            (None, 28, 28, 32)        18464     \n",
      "_________________________________________________________________\n",
      "flatten_22 (Flatten)         (None, 25088)             0         \n",
      "_________________________________________________________________\n",
      "dense_22 (Dense)             (None, 10)                250890    \n",
      "=================================================================\n",
      "Total params: 271,146\n",
      "Trainable params: 271,146\n",
      "Non-trainable params: 0\n",
      "_________________________________________________________________\n"
     ]
    },
    {
     "data": {
      "text/plain": [
       "'\\n****************************************************\\n'"
      ]
     },
     "execution_count": 52,
     "metadata": {},
     "output_type": "execute_result"
    }
   ],
   "source": [
    "\"\"\"\n",
    "****************************************************\n",
    "*** TODO: design a convolutional network for CIFAR10\n",
    "****************************************************\n",
    "\n",
    "Design a model to perform CIFAR10 classification\n",
    "\"\"\"     \n",
    "\n",
    "model=keras.models.Sequential()\n",
    "model.add(layers.Conv2D(64, kernel_size=3, activation='relu', input_shape=(32,32,3)))\n",
    "model.add(layers.Conv2D(32, kernel_size=3, activation='relu'))\n",
    "model.add(layers.Flatten())\n",
    "model.add(layers.Dense(10, activation='softmax'))\n",
    "\n",
    "model.summary()\n",
    "\n",
    "\"\"\"\n",
    "****************************************************\n",
    "\"\"\""
   ]
  },
  {
   "cell_type": "markdown",
   "metadata": {},
   "source": [
    "### Train, Tune and Visualize the Model [25%]\n",
    "\n",
    "Train your model and plot training and validation accuracy as a function of time (steps or epochs). Choose some model parameters (e.g., number of layers, filters per layer, kernel size) and study the affect of their settings on performance. Show your findings with plots or tables with validation accuracy as a function of the parameters in your study. Visualize some aspect of your model, e.g., first layer weights, activation distributions. How do they evolve over time?"
   ]
  },
  {
   "cell_type": "code",
   "execution_count": 53,
   "metadata": {},
   "outputs": [
    {
     "name": "stdout",
     "output_type": "stream",
     "text": [
      "Train on 49000 samples, validate on 1000 samples\n",
      "Epoch 1/5\n",
      "49000/49000 [==============================] - 205s 4ms/sample - loss: 1.7954 - accuracy: 0.3642 - val_loss: 1.6647 - val_accuracy: 0.3730\n",
      "Epoch 2/5\n",
      "49000/49000 [==============================] - 140s 3ms/sample - loss: 1.4778 - accuracy: 0.4783 - val_loss: 1.5803 - val_accuracy: 0.4320\n",
      "Epoch 3/5\n",
      "49000/49000 [==============================] - 166s 3ms/sample - loss: 1.3302 - accuracy: 0.5315 - val_loss: 1.3048 - val_accuracy: 0.5220\n",
      "Epoch 4/5\n",
      "49000/49000 [==============================] - 200s 4ms/sample - loss: 1.2364 - accuracy: 0.5665 - val_loss: 1.3138 - val_accuracy: 0.5310\n",
      "Epoch 5/5\n",
      "49000/49000 [==============================] - 161s 3ms/sample - loss: 1.1638 - accuracy: 0.5918 - val_loss: 1.2050 - val_accuracy: 0.5720\n"
     ]
    },
    {
     "data": {
      "text/plain": [
       "<matplotlib.legend.Legend at 0x28e3b6724c8>"
      ]
     },
     "execution_count": 53,
     "metadata": {},
     "output_type": "execute_result"
    },
    {
     "data": {
      "image/png": "[encoded data removed]",
      "text/plain": [
       "<Figure size 576x432 with 1 Axes>"
      ]
     },
     "metadata": {
      "needs_background": "light"
     },
     "output_type": "display_data"
    }
   ],
   "source": [
    "# FORNOW: train model with sgd for 5 epochs\n",
    "model.compile(optimizer='sgd',loss='categorical_crossentropy',metrics=['accuracy'])\n",
    "history = model.fit(train_images, train_one_hot, epochs=5, validation_data=(valid_images, valid_one_hot))\n",
    "\n",
    "\"\"\"\n",
    "*********************************************\n",
    "*** TODO: train, tune and visualize CNN model\n",
    "*********************************************\n",
    "\"\"\"    \n",
    "\n",
    "\n",
    "\"\"\"\n",
    "*********************************************\n",
    "\"\"\"\n",
    "\n",
    "# Example of plotting training and validation accuracy vs epoch\n",
    "plt.rcParams['figure.figsize'] = (8.0, 6.0)\n",
    "plt.plot(history.history['accuracy'], label='accuracy')\n",
    "plt.plot(history.history['val_accuracy'], label = 'val_accuracy')\n",
    "plt.xlabel('Epoch')\n",
    "plt.ylabel('Accuracy')\n",
    "plt.ylim([0.0, 1])\n",
    "plt.legend(loc='upper right')"
   ]
  },
  {
   "cell_type": "markdown",
   "metadata": {
    "colab_type": "text",
    "id": "jKgyC5K_4O0d"
   },
   "source": [
    "### Evaluate the model\n",
    "\n",
    "Use the code below to compute the final accuracy of your model on the test set."
   ]
  },
  {
   "cell_type": "code",
   "execution_count": null,
   "metadata": {
    "colab": {
     "base_uri": "https://localhost:8080/",
     "height": 317
    },
    "colab_type": "code",
    "id": "gtyDF0MKUcM7",
    "outputId": "8790b8bd-2c06-424a-f393-f8cc8ea3ee64"
   },
   "outputs": [],
   "source": [
    "# Compute accuracy on the test set\n",
    "test_loss, test_acc = model.evaluate(test_images,test_one_hot,verbose=2)\n",
    "\n",
    "#"
   ]
  }
 ],
 "metadata": {
  "accelerator": "GPU",
  "colab": {
   "collapsed_sections": [],
   "name": "Assignment3_tflow.ipynb",
   "provenance": []
  },
  "kernelspec": {
   "display_name": "Python 3",
   "language": "python",
   "name": "python3"
  },
  "language_info": {
   "codemirror_mode": {
    "name": "ipython",
    "version": 3
   },
   "file_extension": ".py",
   "mimetype": "text/x-python",
   "name": "python",
   "nbconvert_exporter": "python",
   "pygments_lexer": "ipython3",
   "version": "3.7.7"
  }
 },
 "nbformat": 4,
 "nbformat_minor": 1
}
