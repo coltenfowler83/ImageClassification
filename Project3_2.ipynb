{
 "cells": [
  {
   "cell_type": "markdown",
   "metadata": {
    "colab_type": "text",
    "id": "DSPCom-KmApV"
   },
   "source": [
    "# Image Classification with CIFAR10 : Part 2\n",
    "\n",
    "Part 2 of the project uses the [Keras Sequential API](https://www.tensorflow.org/api_docs/python/tf/keras/Sequential) in Tensorflow to perform image classification using CIFAR10. You should complete [Part 1](https://courses.cs.washington.edu/courses/csep576/20sp/projects/Project3_1.html) first. Part 1 is worth 60% and Part 2 worth 40% of the overall mark.\n",
    "\n",
    "**Getting Started:** The source files for this project are [here](https://courses.cs.washington.edu/courses/csep576/20sp/projects/project3/project3.zip). To run locally, you will need [IPython/Jupyter](http://jupyter.org/install.html) as well as [Tensorflow](https://www.tensorflow.org/install) installed. Launch Jupyter and open `Project3_2.ipynb`. You can also import this notebook directly into [Colaboratory](https://colab.research.google.com/) without installing anything.\n",
    "\n",
    "**This project:** You'll start by replicating the linear classifier from [Part 1](https://courses.cs.washington.edu/courses/csep576/20sp/projects/Project3_1.html) using the Keras Sequential API. This will give a performance baseline. You'll then work on improved model designs using convolutional layers and tune parameters to get good classification performance.\n",
    "\n",
    "**What to turn in:** Hand in a zipfile containing your completed .ipynb notebook and any .py files you created. Be sure to describe clearly the results of your investigations.\n",
    "\n",
    "version `050420`"
   ]
  },
  {
   "cell_type": "markdown",
   "metadata": {},
   "source": [
    "### Copyright 2020 Google LLC\n",
    "\n",
    "Licensed under the Apache License, Version 2.0 (the \"License\"); \n",
    "This is not an official Google product."
   ]
  },
  {
   "cell_type": "code",
   "execution_count": null,
   "metadata": {},
   "outputs": [],
   "source": [
    "#@title \n",
    "# Licensed under the Apache License, Version 2.0 (the \"License\");\n",
    "# you may not use this file except in compliance with the License.\n",
    "# You may obtain a copy of the License at\n",
    "#\n",
    "# https://www.apache.org/licenses/LICENSE-2.0\n",
    "#\n",
    "# Unless required by applicable law or agreed to in writing, software\n",
    "# distributed under the License is distributed on an \"AS IS\" BASIS,\n",
    "# WITHOUT WARRANTIES OR CONDITIONS OF ANY KIND, either express or implied.\n",
    "# See the License for the specific language governing permissions and\n",
    "# limitations under the License."
   ]
  },
  {
   "cell_type": "code",
   "execution_count": null,
   "metadata": {
    "colab": {
     "base_uri": "https://localhost:8080/",
     "height": 63
    },
    "colab_type": "code",
    "id": "iAve6DCL4JH4",
    "outputId": "970c1894-7f32-41c0-ac8e-ada54db753c8"
   },
   "outputs": [],
   "source": [
    "import tensorflow as tf\n",
    "from tensorflow import keras\n",
    "from tensorflow.keras import layers\n",
    "import numpy as np\n",
    "import matplotlib.pyplot as plt\n",
    "\n",
    "%matplotlib inline\n",
    "# edit this line to change the figure size\n",
    "plt.rcParams['figure.figsize'] = (16.0, 10.0)\n",
    "plt.rcParams['font.size'] = 16\n",
    "# may be needed to avoid mulitply defined openmp libs\n",
    "import os\n",
    "os.environ['KMP_DUPLICATE_LIB_OK']='TRUE'"
   ]
  },
  {
   "cell_type": "markdown",
   "metadata": {
    "colab_type": "text",
    "id": "IVsh2Y2cdS6G"
   },
   "source": [
    "### Download CIFAR10 dataset\n",
    "\n",
    "We use `keras.datasets` to download the CIFAR10 data, splitting off 1000 images from the training set for validation. The dataset will be cached at `~/.keras/datasets` by default."
   ]
  },
  {
   "cell_type": "code",
   "execution_count": null,
   "metadata": {
    "colab": {
     "base_uri": "https://localhost:8080/",
     "height": 68
    },
    "colab_type": "code",
    "id": "0IqPyBALdS5v",
    "outputId": "910647b5-f821-4f8b-fc38-70fbebc7fdd3"
   },
   "outputs": [],
   "source": [
    "# Load CIFAR10 dataset\n",
    "(train_images0,train_labels0),(test_images,test_labels) = keras.datasets.cifar10.load_data()\n",
    "\n",
    "# Normalise images\n",
    "train_images0=train_images0.astype('float')/255.0\n",
    "test_images=test_images.astype('float')/255.0\n",
    "\n",
    "# Create a validation set\n",
    "num_valid=1000\n",
    "valid_images=train_images0[0:num_valid]\n",
    "valid_labels=train_labels0[0:num_valid]\n",
    "train_images=train_images0[num_valid:]\n",
    "train_labels=train_labels0[num_valid:]\n",
    "\n",
    "cifar10_names = ['airplane', 'automobile', 'bird', 'cat', 'deer','dog', 'frog', 'horse', 'ship', 'truck']\n",
    "num_classes=10\n",
    "num_train=train_labels.size\n",
    "num_valid=valid_labels.size\n",
    "num_test=test_labels.size\n",
    "\n",
    "# Make one-hot targets\n",
    "train_one_hot=tf.one_hot(train_labels[:,0],num_classes)\n",
    "valid_one_hot=tf.one_hot(valid_labels[:,0],num_classes)\n",
    "test_one_hot=tf.one_hot(test_labels[:,0],num_classes)\n",
    "\n",
    "# Show a random image and label\n",
    "rnd=np.random.randint(num_train)\n",
    "plt.rcParams['figure.figsize'] = (4.0, 4.0)\n",
    "plt.imshow(train_images[rnd])\n",
    "print(cifar10_names[train_labels[rnd][0]])"
   ]
  },
  {
   "cell_type": "markdown",
   "metadata": {
    "colab_type": "text",
    "id": "Oewp-wYg31t9"
   },
   "source": [
    "### Define a Linear model using Keras [10%]\n",
    "\n",
    "We'll start by replicating the linear model from [Part 1](https://courses.cs.washington.edu/courses/csep576/20sp/projects/Project3_1.html). Use the [Keras Sequential API](https://www.tensorflow.org/api_docs/python/tf/keras/Sequential) to define a linear model over the input pixels. Complete the code below Hint: try `layers.Flatten` and `layers.Dense`. Check that your layer outputs have the right shape. How many parameters does your model have?"
   ]
  },
  {
   "cell_type": "code",
   "execution_count": null,
   "metadata": {
    "colab": {
     "base_uri": "https://localhost:8080/",
     "height": 323
    },
    "colab_type": "code",
    "id": "L9YmGQBQPrdn",
    "outputId": "1d46e3fa-0549-4ccd-93a4-d3b587b37986"
   },
   "outputs": [],
   "source": [
    "# Initialize a Keras sequential model\n",
    "model=keras.models.Sequential()\n",
    "\n",
    "#FORNOW: placeholder model, replace this with your own model\n",
    "model.add(layers.Conv2D(filters=10,kernel_size=1,input_shape=(32,32,3)))\n",
    "model.add(layers.GlobalAveragePooling2D())\n",
    "\n",
    "\"\"\"\n",
    "*************************************************************\n",
    "*** TODO: implement a linear model using Keras Sequential API\n",
    "*************************************************************\n",
    "\n",
    "The model should compute a single linear function of the input pixels\n",
    "\"\"\"        \n",
    "\n",
    "\n",
    "\"\"\"\n",
    "*************************************************************\n",
    "\"\"\"\n",
    "\n",
    "# output a summary of the model\n",
    "model.summary()"
   ]
  },
  {
   "cell_type": "markdown",
   "metadata": {
    "colab_type": "text",
    "id": "P3odqfHP4M67"
   },
   "source": [
    "### Train the model\n",
    "\n",
    "Use the code below to train the model with squared-error loss between logits and targets. Try a few different optimizers and loss functions, and running for additional epochs. Which combination works best? Can you modify the model to implement softmax regression? How could you add regularization (L2 penalty) on the weights?"
   ]
  },
  {
   "cell_type": "code",
   "execution_count": null,
   "metadata": {
    "colab": {
     "base_uri": "https://localhost:8080/",
     "height": 374
    },
    "colab_type": "code",
    "id": "MdDzI75PUXrG",
    "outputId": "5f3a9074-946e-4c74-c43a-ff3c3e336137"
   },
   "outputs": [],
   "source": [
    "model.compile(optimizer='sgd', loss='mean_squared_error',metrics=['accuracy'])\n",
    "history = model.fit(train_images,train_one_hot,epochs=1,validation_data=(valid_images, valid_one_hot))\n",
    "\n",
    "\"\"\"\n",
    "******************************************************************\n",
    "*** TODO: test different training parameters for linear regression\n",
    "******************************************************************\n",
    "\"\"\"\n",
    "\n",
    "\n",
    "\"\"\"\n",
    "******************************************************************\n",
    "\"\"\""
   ]
  },
  {
   "cell_type": "markdown",
   "metadata": {},
   "source": [
    "### Run the model\n",
    "\n",
    "The following code demonstrates use of `model.predict`. Run the following code to demonstrate running the model on a single input."
   ]
  },
  {
   "cell_type": "code",
   "execution_count": null,
   "metadata": {},
   "outputs": [],
   "source": [
    "rnd=np.random.randint(num_test)\n",
    "test_image_rnd=test_images[rnd]\n",
    "test_label_rnd=test_labels[rnd][0]\n",
    "logits=model.predict(np.expand_dims(test_image_rnd,0))\n",
    "label_pred=np.argmax(logits)\n",
    "plt.imshow(test_image_rnd)\n",
    "print('predicted =',cifar10_names[label_pred])\n",
    "print('actual =',cifar10_names[test_label_rnd])"
   ]
  },
  {
   "cell_type": "markdown",
   "metadata": {},
   "source": [
    "### Design a new model [5%]\n",
    "\n",
    "Design your own convolutional net choosing your own set of layers. In the next block, you'll train, tune and visualize outputs from this model."
   ]
  },
  {
   "cell_type": "code",
   "execution_count": null,
   "metadata": {},
   "outputs": [],
   "source": [
    "\"\"\"\n",
    "****************************************************\n",
    "*** TODO: design a convolutional network for CIFAR10\n",
    "****************************************************\n",
    "\n",
    "Design a model to perform CIFAR10 classification\n",
    "\"\"\"     \n",
    "\n",
    "\n",
    "\"\"\"\n",
    "****************************************************\n",
    "\"\"\""
   ]
  },
  {
   "cell_type": "markdown",
   "metadata": {},
   "source": [
    "### Train, Tune and Visualize the Model [25%]\n",
    "\n",
    "Train your model and plot training and validation accuracy as a function of time (steps or epochs). Choose some model parameters (e.g., number of layers, filters per layer, kernel size) and study the affect of their settings on performance. Show your findings with plots or tables with validation accuracy as a function of the parameters in your study. Visualize some aspect of your model, e.g., first layer weights, activation distributions. How do they evolve over time?"
   ]
  },
  {
   "cell_type": "code",
   "execution_count": null,
   "metadata": {},
   "outputs": [],
   "source": [
    "# FORNOW: train model with sgd for 5 epochs\n",
    "model.compile(optimizer='sgd',loss='mean_squared_error',metrics=['accuracy'])\n",
    "history = model.fit(train_images, train_one_hot, epochs=5, validation_data=(valid_images, valid_one_hot))\n",
    "\n",
    "\"\"\"\n",
    "*********************************************\n",
    "*** TODO: train, tune and visualize CNN model\n",
    "*********************************************\n",
    "\"\"\"    \n",
    "\n",
    "\n",
    "\"\"\"\n",
    "*********************************************\n",
    "\"\"\"\n",
    "\n",
    "# Example of plotting training and validation accuracy vs epoch\n",
    "plt.rcParams['figure.figsize'] = (8.0, 6.0)\n",
    "plt.plot(history.history['accuracy'], label='accuracy')\n",
    "plt.plot(history.history['val_accuracy'], label = 'val_accuracy')\n",
    "plt.xlabel('Epoch')\n",
    "plt.ylabel('Accuracy')\n",
    "plt.ylim([0.0, 1])\n",
    "plt.legend(loc='upper right')"
   ]
  },
  {
   "cell_type": "markdown",
   "metadata": {
    "colab_type": "text",
    "id": "jKgyC5K_4O0d"
   },
   "source": [
    "### Evaluate the model\n",
    "\n",
    "Use the code below to compute the final accuracy of your model on the test set."
   ]
  },
  {
   "cell_type": "code",
   "execution_count": null,
   "metadata": {
    "colab": {
     "base_uri": "https://localhost:8080/",
     "height": 317
    },
    "colab_type": "code",
    "id": "gtyDF0MKUcM7",
    "outputId": "8790b8bd-2c06-424a-f393-f8cc8ea3ee64"
   },
   "outputs": [],
   "source": [
    "# Compute accuracy on the test set\n",
    "test_loss, test_acc = model.evaluate(test_images,test_one_hot,verbose=2)\n",
    "\n",
    "#"
   ]
  }
 ],
 "metadata": {
  "accelerator": "GPU",
  "colab": {
   "collapsed_sections": [],
   "name": "Assignment3_tflow.ipynb",
   "provenance": []
  },
  "kernelspec": {
   "display_name": "Python 3",
   "language": "python",
   "name": "python3"
  },
  "language_info": {
   "codemirror_mode": {
    "name": "ipython",
    "version": 3
   },
   "file_extension": ".py",
   "mimetype": "text/x-python",
   "name": "python",
   "nbconvert_exporter": "python",
   "pygments_lexer": "ipython3",
   "version": "3.7.6"
  }
 },
 "nbformat": 4,
 "nbformat_minor": 1
}
